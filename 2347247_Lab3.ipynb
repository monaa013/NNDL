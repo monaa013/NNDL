{
  "nbformat": 4,
  "nbformat_minor": 0,
  "metadata": {
    "colab": {
      "provenance": []
    },
    "kernelspec": {
      "name": "python3",
      "display_name": "Python 3"
    },
    "language_info": {
      "name": "python"
    }
  },
  "cells": [
    {
      "cell_type": "markdown",
      "source": [
        "# NNDL Regular lab Question – 3\n",
        "\n",
        "**Priya Dharshini G - 2347247**"
      ],
      "metadata": {
        "id": "UcDyucJs17AP"
      }
    },
    {
      "cell_type": "markdown",
      "source": [
        "**1. Data Preprocessing:**\n",
        "\n",
        "o Load the CIFAR-10 dataset.\n",
        "\n",
        "o Perform necessary data preprocessing steps:\n",
        "\n",
        "- Normalize pixel values to range between 0 and 1.\n",
        "- Convert class labels into one-hot encoded format.\n",
        "- Split the dataset into training and test sets (e.g., 50,000 images for\n",
        "training and 10,000 for testing).\n",
        "- Optionally, apply data augmentation techniques (such as random\n",
        "flips, rotations, or shifts) to improve the generalization of the\n",
        "model."
      ],
      "metadata": {
        "id": "-Ey6BKoZXO7f"
      }
    },
    {
      "cell_type": "code",
      "source": [
        "import tensorflow as tf\n",
        "from tensorflow.keras import layers, models\n",
        "from tensorflow.keras.utils import to_categorical\n",
        "from tensorflow.keras.datasets import cifar10\n",
        "import matplotlib.pyplot as plt\n",
        "from sklearn.metrics import classification_report, confusion_matrix\n",
        "import numpy as np\n",
        "\n",
        "# 1. Load and Preprocess the CIFAR-10 dataset\n",
        "(x_train, y_train), (x_test, y_test) = cifar10.load_data()\n",
        "\n",
        "# Normalize pixel values between 0 and 1\n",
        "x_train = x_train.astype('float32') / 255.0\n",
        "x_test = x_test.astype('float32') / 255.0\n",
        "\n",
        "# One-hot encode the labels\n",
        "y_train = to_categorical(y_train, 10)\n",
        "y_test = to_categorical(y_test, 10)"
      ],
      "metadata": {
        "id": "So4qkrTtW7xB"
      },
      "execution_count": 22,
      "outputs": []
    },
    {
      "cell_type": "markdown",
      "source": [
        "**2. Network Architecture Design:**\n",
        "\n",
        "o Design a feedforward neural network to classify the images.\n",
        "- Input Layer: The input shape should match the 32x32x3\n",
        "dimensions of the CIFAR-10 images.\n",
        "- Hidden Layers: Use appropriate layers.\n",
        "- Output Layer: The final layer should have 10 output neurons (one\n",
        "for each class) with a softmax activation function for multi-class\n",
        "classification.\n",
        "\n",
        "Question:\n",
        "\n",
        "o Justify your choice of network architecture, including the number of\n",
        "layers, types of layers, and the number of neurons/filters in each layer."
      ],
      "metadata": {
        "id": "HBa4_O3qlJkF"
      }
    },
    {
      "cell_type": "code",
      "source": [
        "# 2. Network Architecture Design\n",
        "model = models.Sequential()\n",
        "\n",
        "# Input layer: CIFAR-10 images are 32x32x3\n",
        "model.add(layers.Flatten(input_shape=(32, 32, 3)))\n",
        "\n",
        "# Hidden layer 1: 256 neurons, ReLU activation\n",
        "model.add(layers.Dense(256, activation='relu'))\n",
        "\n",
        "# Hidden layer 2: 128 neurons, ReLU activation\n",
        "model.add(layers.Dense(128, activation='relu'))\n",
        "\n",
        "# Output layer: 10 neurons for 10 classes, Softmax activation\n",
        "model.add(layers.Dense(10, activation='softmax'))\n",
        "\n",
        "# Summary of the model\n",
        "model.summary()"
      ],
      "metadata": {
        "id": "7rBg5MhdXD0c",
        "colab": {
          "base_uri": "https://localhost:8080/",
          "height": 312
        },
        "outputId": "99daea9c-5a7c-4301-8ee2-a4a8a6348621"
      },
      "execution_count": 23,
      "outputs": [
        {
          "output_type": "stream",
          "name": "stderr",
          "text": [
            "/usr/local/lib/python3.10/dist-packages/keras/src/layers/reshaping/flatten.py:37: UserWarning: Do not pass an `input_shape`/`input_dim` argument to a layer. When using Sequential models, prefer using an `Input(shape)` object as the first layer in the model instead.\n",
            "  super().__init__(**kwargs)\n"
          ]
        },
        {
          "output_type": "display_data",
          "data": {
            "text/plain": [
              "\u001b[1mModel: \"sequential_3\"\u001b[0m\n"
            ],
            "text/html": [
              "<pre style=\"white-space:pre;overflow-x:auto;line-height:normal;font-family:Menlo,'DejaVu Sans Mono',consolas,'Courier New',monospace\"><span style=\"font-weight: bold\">Model: \"sequential_3\"</span>\n",
              "</pre>\n"
            ]
          },
          "metadata": {}
        },
        {
          "output_type": "display_data",
          "data": {
            "text/plain": [
              "┏━━━━━━━━━━━━━━━━━━━━━━━━━━━━━━━━━━━━━━┳━━━━━━━━━━━━━━━━━━━━━━━━━━━━━┳━━━━━━━━━━━━━━━━━┓\n",
              "┃\u001b[1m \u001b[0m\u001b[1mLayer (type)                        \u001b[0m\u001b[1m \u001b[0m┃\u001b[1m \u001b[0m\u001b[1mOutput Shape               \u001b[0m\u001b[1m \u001b[0m┃\u001b[1m \u001b[0m\u001b[1m        Param #\u001b[0m\u001b[1m \u001b[0m┃\n",
              "┡━━━━━━━━━━━━━━━━━━━━━━━━━━━━━━━━━━━━━━╇━━━━━━━━━━━━━━━━━━━━━━━━━━━━━╇━━━━━━━━━━━━━━━━━┩\n",
              "│ flatten_3 (\u001b[38;5;33mFlatten\u001b[0m)                  │ (\u001b[38;5;45mNone\u001b[0m, \u001b[38;5;34m3072\u001b[0m)                │               \u001b[38;5;34m0\u001b[0m │\n",
              "├──────────────────────────────────────┼─────────────────────────────┼─────────────────┤\n",
              "│ dense_9 (\u001b[38;5;33mDense\u001b[0m)                      │ (\u001b[38;5;45mNone\u001b[0m, \u001b[38;5;34m256\u001b[0m)                 │         \u001b[38;5;34m786,688\u001b[0m │\n",
              "├──────────────────────────────────────┼─────────────────────────────┼─────────────────┤\n",
              "│ dense_10 (\u001b[38;5;33mDense\u001b[0m)                     │ (\u001b[38;5;45mNone\u001b[0m, \u001b[38;5;34m128\u001b[0m)                 │          \u001b[38;5;34m32,896\u001b[0m │\n",
              "├──────────────────────────────────────┼─────────────────────────────┼─────────────────┤\n",
              "│ dense_11 (\u001b[38;5;33mDense\u001b[0m)                     │ (\u001b[38;5;45mNone\u001b[0m, \u001b[38;5;34m10\u001b[0m)                  │           \u001b[38;5;34m1,290\u001b[0m │\n",
              "└──────────────────────────────────────┴─────────────────────────────┴─────────────────┘\n"
            ],
            "text/html": [
              "<pre style=\"white-space:pre;overflow-x:auto;line-height:normal;font-family:Menlo,'DejaVu Sans Mono',consolas,'Courier New',monospace\">┏━━━━━━━━━━━━━━━━━━━━━━━━━━━━━━━━━━━━━━┳━━━━━━━━━━━━━━━━━━━━━━━━━━━━━┳━━━━━━━━━━━━━━━━━┓\n",
              "┃<span style=\"font-weight: bold\"> Layer (type)                         </span>┃<span style=\"font-weight: bold\"> Output Shape                </span>┃<span style=\"font-weight: bold\">         Param # </span>┃\n",
              "┡━━━━━━━━━━━━━━━━━━━━━━━━━━━━━━━━━━━━━━╇━━━━━━━━━━━━━━━━━━━━━━━━━━━━━╇━━━━━━━━━━━━━━━━━┩\n",
              "│ flatten_3 (<span style=\"color: #0087ff; text-decoration-color: #0087ff\">Flatten</span>)                  │ (<span style=\"color: #00d7ff; text-decoration-color: #00d7ff\">None</span>, <span style=\"color: #00af00; text-decoration-color: #00af00\">3072</span>)                │               <span style=\"color: #00af00; text-decoration-color: #00af00\">0</span> │\n",
              "├──────────────────────────────────────┼─────────────────────────────┼─────────────────┤\n",
              "│ dense_9 (<span style=\"color: #0087ff; text-decoration-color: #0087ff\">Dense</span>)                      │ (<span style=\"color: #00d7ff; text-decoration-color: #00d7ff\">None</span>, <span style=\"color: #00af00; text-decoration-color: #00af00\">256</span>)                 │         <span style=\"color: #00af00; text-decoration-color: #00af00\">786,688</span> │\n",
              "├──────────────────────────────────────┼─────────────────────────────┼─────────────────┤\n",
              "│ dense_10 (<span style=\"color: #0087ff; text-decoration-color: #0087ff\">Dense</span>)                     │ (<span style=\"color: #00d7ff; text-decoration-color: #00d7ff\">None</span>, <span style=\"color: #00af00; text-decoration-color: #00af00\">128</span>)                 │          <span style=\"color: #00af00; text-decoration-color: #00af00\">32,896</span> │\n",
              "├──────────────────────────────────────┼─────────────────────────────┼─────────────────┤\n",
              "│ dense_11 (<span style=\"color: #0087ff; text-decoration-color: #0087ff\">Dense</span>)                     │ (<span style=\"color: #00d7ff; text-decoration-color: #00d7ff\">None</span>, <span style=\"color: #00af00; text-decoration-color: #00af00\">10</span>)                  │           <span style=\"color: #00af00; text-decoration-color: #00af00\">1,290</span> │\n",
              "└──────────────────────────────────────┴─────────────────────────────┴─────────────────┘\n",
              "</pre>\n"
            ]
          },
          "metadata": {}
        },
        {
          "output_type": "display_data",
          "data": {
            "text/plain": [
              "\u001b[1m Total params: \u001b[0m\u001b[38;5;34m820,874\u001b[0m (3.13 MB)\n"
            ],
            "text/html": [
              "<pre style=\"white-space:pre;overflow-x:auto;line-height:normal;font-family:Menlo,'DejaVu Sans Mono',consolas,'Courier New',monospace\"><span style=\"font-weight: bold\"> Total params: </span><span style=\"color: #00af00; text-decoration-color: #00af00\">820,874</span> (3.13 MB)\n",
              "</pre>\n"
            ]
          },
          "metadata": {}
        },
        {
          "output_type": "display_data",
          "data": {
            "text/plain": [
              "\u001b[1m Trainable params: \u001b[0m\u001b[38;5;34m820,874\u001b[0m (3.13 MB)\n"
            ],
            "text/html": [
              "<pre style=\"white-space:pre;overflow-x:auto;line-height:normal;font-family:Menlo,'DejaVu Sans Mono',consolas,'Courier New',monospace\"><span style=\"font-weight: bold\"> Trainable params: </span><span style=\"color: #00af00; text-decoration-color: #00af00\">820,874</span> (3.13 MB)\n",
              "</pre>\n"
            ]
          },
          "metadata": {}
        },
        {
          "output_type": "display_data",
          "data": {
            "text/plain": [
              "\u001b[1m Non-trainable params: \u001b[0m\u001b[38;5;34m0\u001b[0m (0.00 B)\n"
            ],
            "text/html": [
              "<pre style=\"white-space:pre;overflow-x:auto;line-height:normal;font-family:Menlo,'DejaVu Sans Mono',consolas,'Courier New',monospace\"><span style=\"font-weight: bold\"> Non-trainable params: </span><span style=\"color: #00af00; text-decoration-color: #00af00\">0</span> (0.00 B)\n",
              "</pre>\n"
            ]
          },
          "metadata": {}
        }
      ]
    },
    {
      "cell_type": "markdown",
      "source": [
        "**3. Activation Functions:**\n",
        "\n",
        "o Choose any two appropriate activation functions for the hidden layers\n",
        "(e.g., ReLU, sigmoid, or tanh).\n",
        "\n",
        "o Explain why you selected a particular activation function and its role in\n",
        "the backpropagation process."
      ],
      "metadata": {
        "id": "oW9Adhu3lU9I"
      }
    },
    {
      "cell_type": "code",
      "source": [
        "# 3. Compile the model\n",
        "model.compile(optimizer='adam',\n",
        "              loss='categorical_crossentropy',\n",
        "              metrics=['accuracy'])"
      ],
      "metadata": {
        "id": "lCD3gDF8XF6-"
      },
      "execution_count": 24,
      "outputs": []
    },
    {
      "cell_type": "markdown",
      "source": [
        "**4. Loss Function and Optimizer:**\n",
        "\n",
        "o Use any two loss functions and compare with the categorical cross\n",
        "entropy since this is a multi-class classification problem.\n",
        "o Select an appropriate optimizer (e.g., SGD, Adam, RMSprop) and explain\n",
        "how the learning rate affects the backpropagation process.\n",
        "\n",
        "Question:\n",
        "\n",
        "o How does the choice of optimizer and learning rate influence the\n",
        "convergence of the network? How would you adjust the learning rate if the\n",
        "model is not converging properly?"
      ],
      "metadata": {
        "id": "CvItovXMla7D"
      }
    },
    {
      "cell_type": "code",
      "source": [
        "# 4. Train the model\n",
        "history = model.fit(x_train, y_train,\n",
        "                    epochs=50,\n",
        "                    batch_size=64,\n",
        "                    validation_data=(x_test, y_test))"
      ],
      "metadata": {
        "colab": {
          "base_uri": "https://localhost:8080/"
        },
        "id": "4lZRH304XHhj",
        "outputId": "d168fc46-c19e-4e47-c5de-67c57db87148"
      },
      "execution_count": 18,
      "outputs": [
        {
          "output_type": "stream",
          "name": "stdout",
          "text": [
            "Epoch 1/50\n",
            "\u001b[1m782/782\u001b[0m \u001b[32m━━━━━━━━━━━━━━━━━━━━\u001b[0m\u001b[37m\u001b[0m \u001b[1m27s\u001b[0m 30ms/step - accuracy: 0.2777 - loss: 1.9932 - val_accuracy: 0.3653 - val_loss: 1.7596\n",
            "Epoch 2/50\n",
            "\u001b[1m782/782\u001b[0m \u001b[32m━━━━━━━━━━━━━━━━━━━━\u001b[0m\u001b[37m\u001b[0m \u001b[1m30s\u001b[0m 16ms/step - accuracy: 0.3910 - loss: 1.7007 - val_accuracy: 0.4092 - val_loss: 1.6659\n",
            "Epoch 3/50\n",
            "\u001b[1m782/782\u001b[0m \u001b[32m━━━━━━━━━━━━━━━━━━━━\u001b[0m\u001b[37m\u001b[0m \u001b[1m21s\u001b[0m 16ms/step - accuracy: 0.4205 - loss: 1.6185 - val_accuracy: 0.4309 - val_loss: 1.5985\n",
            "Epoch 4/50\n",
            "\u001b[1m782/782\u001b[0m \u001b[32m━━━━━━━━━━━━━━━━━━━━\u001b[0m\u001b[37m\u001b[0m \u001b[1m13s\u001b[0m 16ms/step - accuracy: 0.4489 - loss: 1.5422 - val_accuracy: 0.4406 - val_loss: 1.5587\n",
            "Epoch 5/50\n",
            "\u001b[1m782/782\u001b[0m \u001b[32m━━━━━━━━━━━━━━━━━━━━\u001b[0m\u001b[37m\u001b[0m \u001b[1m13s\u001b[0m 17ms/step - accuracy: 0.4600 - loss: 1.5135 - val_accuracy: 0.4473 - val_loss: 1.5407\n",
            "Epoch 6/50\n",
            "\u001b[1m782/782\u001b[0m \u001b[32m━━━━━━━━━━━━━━━━━━━━\u001b[0m\u001b[37m\u001b[0m \u001b[1m22s\u001b[0m 19ms/step - accuracy: 0.4779 - loss: 1.4720 - val_accuracy: 0.4584 - val_loss: 1.5223\n",
            "Epoch 7/50\n",
            "\u001b[1m782/782\u001b[0m \u001b[32m━━━━━━━━━━━━━━━━━━━━\u001b[0m\u001b[37m\u001b[0m \u001b[1m15s\u001b[0m 19ms/step - accuracy: 0.4793 - loss: 1.4565 - val_accuracy: 0.4688 - val_loss: 1.5077\n",
            "Epoch 8/50\n",
            "\u001b[1m782/782\u001b[0m \u001b[32m━━━━━━━━━━━━━━━━━━━━\u001b[0m\u001b[37m\u001b[0m \u001b[1m19s\u001b[0m 17ms/step - accuracy: 0.4895 - loss: 1.4321 - val_accuracy: 0.4668 - val_loss: 1.5070\n",
            "Epoch 9/50\n",
            "\u001b[1m782/782\u001b[0m \u001b[32m━━━━━━━━━━━━━━━━━━━━\u001b[0m\u001b[37m\u001b[0m \u001b[1m20s\u001b[0m 17ms/step - accuracy: 0.4904 - loss: 1.4254 - val_accuracy: 0.4653 - val_loss: 1.5129\n",
            "Epoch 10/50\n",
            "\u001b[1m782/782\u001b[0m \u001b[32m━━━━━━━━━━━━━━━━━━━━\u001b[0m\u001b[37m\u001b[0m \u001b[1m13s\u001b[0m 16ms/step - accuracy: 0.5009 - loss: 1.4052 - val_accuracy: 0.4862 - val_loss: 1.4471\n",
            "Epoch 11/50\n",
            "\u001b[1m782/782\u001b[0m \u001b[32m━━━━━━━━━━━━━━━━━━━━\u001b[0m\u001b[37m\u001b[0m \u001b[1m13s\u001b[0m 16ms/step - accuracy: 0.5090 - loss: 1.3740 - val_accuracy: 0.4971 - val_loss: 1.4233\n",
            "Epoch 12/50\n",
            "\u001b[1m782/782\u001b[0m \u001b[32m━━━━━━━━━━━━━━━━━━━━\u001b[0m\u001b[37m\u001b[0m \u001b[1m12s\u001b[0m 16ms/step - accuracy: 0.5117 - loss: 1.3670 - val_accuracy: 0.4851 - val_loss: 1.4607\n",
            "Epoch 13/50\n",
            "\u001b[1m782/782\u001b[0m \u001b[32m━━━━━━━━━━━━━━━━━━━━\u001b[0m\u001b[37m\u001b[0m \u001b[1m13s\u001b[0m 17ms/step - accuracy: 0.5227 - loss: 1.3300 - val_accuracy: 0.4982 - val_loss: 1.4097\n",
            "Epoch 14/50\n",
            "\u001b[1m782/782\u001b[0m \u001b[32m━━━━━━━━━━━━━━━━━━━━\u001b[0m\u001b[37m\u001b[0m \u001b[1m20s\u001b[0m 16ms/step - accuracy: 0.5263 - loss: 1.3274 - val_accuracy: 0.4863 - val_loss: 1.4557\n",
            "Epoch 15/50\n",
            "\u001b[1m782/782\u001b[0m \u001b[32m━━━━━━━━━━━━━━━━━━━━\u001b[0m\u001b[37m\u001b[0m \u001b[1m13s\u001b[0m 16ms/step - accuracy: 0.5281 - loss: 1.3164 - val_accuracy: 0.4957 - val_loss: 1.4349\n",
            "Epoch 16/50\n",
            "\u001b[1m782/782\u001b[0m \u001b[32m━━━━━━━━━━━━━━━━━━━━\u001b[0m\u001b[37m\u001b[0m \u001b[1m13s\u001b[0m 17ms/step - accuracy: 0.5308 - loss: 1.3132 - val_accuracy: 0.4833 - val_loss: 1.4739\n",
            "Epoch 17/50\n",
            "\u001b[1m782/782\u001b[0m \u001b[32m━━━━━━━━━━━━━━━━━━━━\u001b[0m\u001b[37m\u001b[0m \u001b[1m13s\u001b[0m 16ms/step - accuracy: 0.5351 - loss: 1.2981 - val_accuracy: 0.4983 - val_loss: 1.4256\n",
            "Epoch 18/50\n",
            "\u001b[1m782/782\u001b[0m \u001b[32m━━━━━━━━━━━━━━━━━━━━\u001b[0m\u001b[37m\u001b[0m \u001b[1m13s\u001b[0m 16ms/step - accuracy: 0.5410 - loss: 1.2837 - val_accuracy: 0.4986 - val_loss: 1.4172\n",
            "Epoch 19/50\n",
            "\u001b[1m782/782\u001b[0m \u001b[32m━━━━━━━━━━━━━━━━━━━━\u001b[0m\u001b[37m\u001b[0m \u001b[1m12s\u001b[0m 16ms/step - accuracy: 0.5487 - loss: 1.2679 - val_accuracy: 0.4881 - val_loss: 1.4291\n",
            "Epoch 20/50\n",
            "\u001b[1m782/782\u001b[0m \u001b[32m━━━━━━━━━━━━━━━━━━━━\u001b[0m\u001b[37m\u001b[0m \u001b[1m12s\u001b[0m 16ms/step - accuracy: 0.5498 - loss: 1.2653 - val_accuracy: 0.4837 - val_loss: 1.4546\n",
            "Epoch 21/50\n",
            "\u001b[1m782/782\u001b[0m \u001b[32m━━━━━━━━━━━━━━━━━━━━\u001b[0m\u001b[37m\u001b[0m \u001b[1m12s\u001b[0m 16ms/step - accuracy: 0.5513 - loss: 1.2482 - val_accuracy: 0.4837 - val_loss: 1.4578\n",
            "Epoch 22/50\n",
            "\u001b[1m782/782\u001b[0m \u001b[32m━━━━━━━━━━━━━━━━━━━━\u001b[0m\u001b[37m\u001b[0m \u001b[1m13s\u001b[0m 17ms/step - accuracy: 0.5541 - loss: 1.2502 - val_accuracy: 0.4862 - val_loss: 1.4677\n",
            "Epoch 23/50\n",
            "\u001b[1m782/782\u001b[0m \u001b[32m━━━━━━━━━━━━━━━━━━━━\u001b[0m\u001b[37m\u001b[0m \u001b[1m21s\u001b[0m 17ms/step - accuracy: 0.5565 - loss: 1.2449 - val_accuracy: 0.5001 - val_loss: 1.4370\n",
            "Epoch 24/50\n",
            "\u001b[1m782/782\u001b[0m \u001b[32m━━━━━━━━━━━━━━━━━━━━\u001b[0m\u001b[37m\u001b[0m \u001b[1m12s\u001b[0m 16ms/step - accuracy: 0.5620 - loss: 1.2318 - val_accuracy: 0.5093 - val_loss: 1.4103\n",
            "Epoch 25/50\n",
            "\u001b[1m782/782\u001b[0m \u001b[32m━━━━━━━━━━━━━━━━━━━━\u001b[0m\u001b[37m\u001b[0m \u001b[1m12s\u001b[0m 16ms/step - accuracy: 0.5608 - loss: 1.2271 - val_accuracy: 0.4960 - val_loss: 1.4497\n",
            "Epoch 26/50\n",
            "\u001b[1m782/782\u001b[0m \u001b[32m━━━━━━━━━━━━━━━━━━━━\u001b[0m\u001b[37m\u001b[0m \u001b[1m21s\u001b[0m 16ms/step - accuracy: 0.5714 - loss: 1.2125 - val_accuracy: 0.5054 - val_loss: 1.4208\n",
            "Epoch 27/50\n",
            "\u001b[1m782/782\u001b[0m \u001b[32m━━━━━━━━━━━━━━━━━━━━\u001b[0m\u001b[37m\u001b[0m \u001b[1m20s\u001b[0m 16ms/step - accuracy: 0.5630 - loss: 1.2166 - val_accuracy: 0.4851 - val_loss: 1.4754\n",
            "Epoch 28/50\n",
            "\u001b[1m782/782\u001b[0m \u001b[32m━━━━━━━━━━━━━━━━━━━━\u001b[0m\u001b[37m\u001b[0m \u001b[1m21s\u001b[0m 16ms/step - accuracy: 0.5684 - loss: 1.2069 - val_accuracy: 0.5018 - val_loss: 1.4371\n",
            "Epoch 29/50\n",
            "\u001b[1m782/782\u001b[0m \u001b[32m━━━━━━━━━━━━━━━━━━━━\u001b[0m\u001b[37m\u001b[0m \u001b[1m12s\u001b[0m 16ms/step - accuracy: 0.5747 - loss: 1.1884 - val_accuracy: 0.5039 - val_loss: 1.4266\n",
            "Epoch 30/50\n",
            "\u001b[1m782/782\u001b[0m \u001b[32m━━━━━━━━━━━━━━━━━━━━\u001b[0m\u001b[37m\u001b[0m \u001b[1m21s\u001b[0m 16ms/step - accuracy: 0.5758 - loss: 1.1937 - val_accuracy: 0.5050 - val_loss: 1.4388\n",
            "Epoch 31/50\n",
            "\u001b[1m782/782\u001b[0m \u001b[32m━━━━━━━━━━━━━━━━━━━━\u001b[0m\u001b[37m\u001b[0m \u001b[1m21s\u001b[0m 16ms/step - accuracy: 0.5707 - loss: 1.1929 - val_accuracy: 0.5141 - val_loss: 1.4059\n",
            "Epoch 32/50\n",
            "\u001b[1m782/782\u001b[0m \u001b[32m━━━━━━━━━━━━━━━━━━━━\u001b[0m\u001b[37m\u001b[0m \u001b[1m21s\u001b[0m 16ms/step - accuracy: 0.5730 - loss: 1.1971 - val_accuracy: 0.4993 - val_loss: 1.4627\n",
            "Epoch 33/50\n",
            "\u001b[1m782/782\u001b[0m \u001b[32m━━━━━━━━━━━━━━━━━━━━\u001b[0m\u001b[37m\u001b[0m \u001b[1m13s\u001b[0m 16ms/step - accuracy: 0.5818 - loss: 1.1796 - val_accuracy: 0.4931 - val_loss: 1.4536\n",
            "Epoch 34/50\n",
            "\u001b[1m782/782\u001b[0m \u001b[32m━━━━━━━━━━━━━━━━━━━━\u001b[0m\u001b[37m\u001b[0m \u001b[1m21s\u001b[0m 17ms/step - accuracy: 0.5832 - loss: 1.1685 - val_accuracy: 0.4952 - val_loss: 1.4581\n",
            "Epoch 35/50\n",
            "\u001b[1m782/782\u001b[0m \u001b[32m━━━━━━━━━━━━━━━━━━━━\u001b[0m\u001b[37m\u001b[0m \u001b[1m20s\u001b[0m 17ms/step - accuracy: 0.5847 - loss: 1.1637 - val_accuracy: 0.4893 - val_loss: 1.4677\n",
            "Epoch 36/50\n",
            "\u001b[1m782/782\u001b[0m \u001b[32m━━━━━━━━━━━━━━━━━━━━\u001b[0m\u001b[37m\u001b[0m \u001b[1m14s\u001b[0m 18ms/step - accuracy: 0.5865 - loss: 1.1601 - val_accuracy: 0.4945 - val_loss: 1.4738\n",
            "Epoch 37/50\n",
            "\u001b[1m782/782\u001b[0m \u001b[32m━━━━━━━━━━━━━━━━━━━━\u001b[0m\u001b[37m\u001b[0m \u001b[1m20s\u001b[0m 17ms/step - accuracy: 0.5860 - loss: 1.1572 - val_accuracy: 0.5060 - val_loss: 1.4396\n",
            "Epoch 38/50\n",
            "\u001b[1m782/782\u001b[0m \u001b[32m━━━━━━━━━━━━━━━━━━━━\u001b[0m\u001b[37m\u001b[0m \u001b[1m20s\u001b[0m 17ms/step - accuracy: 0.5910 - loss: 1.1534 - val_accuracy: 0.5084 - val_loss: 1.4561\n",
            "Epoch 39/50\n",
            "\u001b[1m782/782\u001b[0m \u001b[32m━━━━━━━━━━━━━━━━━━━━\u001b[0m\u001b[37m\u001b[0m \u001b[1m13s\u001b[0m 17ms/step - accuracy: 0.5933 - loss: 1.1360 - val_accuracy: 0.5119 - val_loss: 1.4333\n",
            "Epoch 40/50\n",
            "\u001b[1m782/782\u001b[0m \u001b[32m━━━━━━━━━━━━━━━━━━━━\u001b[0m\u001b[37m\u001b[0m \u001b[1m20s\u001b[0m 16ms/step - accuracy: 0.5913 - loss: 1.1442 - val_accuracy: 0.5016 - val_loss: 1.4473\n",
            "Epoch 41/50\n",
            "\u001b[1m782/782\u001b[0m \u001b[32m━━━━━━━━━━━━━━━━━━━━\u001b[0m\u001b[37m\u001b[0m \u001b[1m13s\u001b[0m 17ms/step - accuracy: 0.5928 - loss: 1.1340 - val_accuracy: 0.5087 - val_loss: 1.4303\n",
            "Epoch 42/50\n",
            "\u001b[1m782/782\u001b[0m \u001b[32m━━━━━━━━━━━━━━━━━━━━\u001b[0m\u001b[37m\u001b[0m \u001b[1m21s\u001b[0m 18ms/step - accuracy: 0.5984 - loss: 1.1309 - val_accuracy: 0.5055 - val_loss: 1.4580\n",
            "Epoch 43/50\n",
            "\u001b[1m782/782\u001b[0m \u001b[32m━━━━━━━━━━━━━━━━━━━━\u001b[0m\u001b[37m\u001b[0m \u001b[1m20s\u001b[0m 17ms/step - accuracy: 0.5905 - loss: 1.1403 - val_accuracy: 0.4960 - val_loss: 1.4785\n",
            "Epoch 44/50\n",
            "\u001b[1m782/782\u001b[0m \u001b[32m━━━━━━━━━━━━━━━━━━━━\u001b[0m\u001b[37m\u001b[0m \u001b[1m20s\u001b[0m 17ms/step - accuracy: 0.5956 - loss: 1.1298 - val_accuracy: 0.4940 - val_loss: 1.4834\n",
            "Epoch 45/50\n",
            "\u001b[1m782/782\u001b[0m \u001b[32m━━━━━━━━━━━━━━━━━━━━\u001b[0m\u001b[37m\u001b[0m \u001b[1m21s\u001b[0m 17ms/step - accuracy: 0.6026 - loss: 1.1133 - val_accuracy: 0.5050 - val_loss: 1.4424\n",
            "Epoch 46/50\n",
            "\u001b[1m782/782\u001b[0m \u001b[32m━━━━━━━━━━━━━━━━━━━━\u001b[0m\u001b[37m\u001b[0m \u001b[1m13s\u001b[0m 16ms/step - accuracy: 0.6029 - loss: 1.1101 - val_accuracy: 0.5020 - val_loss: 1.4627\n",
            "Epoch 47/50\n",
            "\u001b[1m782/782\u001b[0m \u001b[32m━━━━━━━━━━━━━━━━━━━━\u001b[0m\u001b[37m\u001b[0m \u001b[1m13s\u001b[0m 17ms/step - accuracy: 0.5986 - loss: 1.1133 - val_accuracy: 0.4992 - val_loss: 1.4732\n",
            "Epoch 48/50\n",
            "\u001b[1m782/782\u001b[0m \u001b[32m━━━━━━━━━━━━━━━━━━━━\u001b[0m\u001b[37m\u001b[0m \u001b[1m13s\u001b[0m 16ms/step - accuracy: 0.6080 - loss: 1.1042 - val_accuracy: 0.4985 - val_loss: 1.4661\n",
            "Epoch 49/50\n",
            "\u001b[1m782/782\u001b[0m \u001b[32m━━━━━━━━━━━━━━━━━━━━\u001b[0m\u001b[37m\u001b[0m \u001b[1m13s\u001b[0m 17ms/step - accuracy: 0.6045 - loss: 1.0983 - val_accuracy: 0.5029 - val_loss: 1.4907\n",
            "Epoch 50/50\n",
            "\u001b[1m782/782\u001b[0m \u001b[32m━━━━━━━━━━━━━━━━━━━━\u001b[0m\u001b[37m\u001b[0m \u001b[1m21s\u001b[0m 18ms/step - accuracy: 0.6044 - loss: 1.1021 - val_accuracy: 0.5024 - val_loss: 1.4866\n"
          ]
        }
      ]
    },
    {
      "cell_type": "markdown",
      "source": [
        "**5. Training the Model:**\n",
        "\n",
        "o Implement backpropagation to update the weights and biases of the\n",
        "network during training.\n",
        "o Train the model for a fixed number of epochs (e.g., 50 epochs) and\n",
        "monitor the training and validation accuracy.\n",
        "\n",
        "Question:\n",
        "\n",
        "o How does backpropagation update the weights in each layer, and what\n",
        "role does the learning rate play in this process?"
      ],
      "metadata": {
        "id": "SXCRE-3jldxZ"
      }
    },
    {
      "cell_type": "code",
      "source": [
        "# 5. Model Evaluation\n",
        "test_loss, test_acc = model.evaluate(x_test, y_test)\n",
        "print(f'Test accuracy: {test_acc}')"
      ],
      "metadata": {
        "id": "tr17_a-vXJ5t",
        "colab": {
          "base_uri": "https://localhost:8080/"
        },
        "outputId": "63bf8c25-c29a-420b-f6fb-07101b96d7e5"
      },
      "execution_count": 19,
      "outputs": [
        {
          "output_type": "stream",
          "name": "stdout",
          "text": [
            "\u001b[1m313/313\u001b[0m \u001b[32m━━━━━━━━━━━━━━━━━━━━\u001b[0m\u001b[37m\u001b[0m \u001b[1m1s\u001b[0m 4ms/step - accuracy: 0.5089 - loss: 1.4685\n",
            "Test accuracy: 0.5023999810218811\n"
          ]
        }
      ]
    },
    {
      "cell_type": "markdown",
      "source": [
        "**6. Model Evaluation:**\n",
        "\n",
        "o After training, evaluate the performance of your model on the test set.\n",
        "\n",
        "o Calculate accuracy, precision, recall, F1-score, and the confusion matrix\n",
        "to understand the model’s classification performance.\n",
        "\n",
        "Question:\n",
        "\n",
        "o How can you further improve model performance if the accuracy is low?"
      ],
      "metadata": {
        "id": "SrCpKiHQlgtx"
      }
    },
    {
      "cell_type": "code",
      "execution_count": 20,
      "metadata": {
        "id": "tfQRUNoIWrTm",
        "colab": {
          "base_uri": "https://localhost:8080/"
        },
        "outputId": "2a55a888-7a1e-4544-ff0f-8720a280e615"
      },
      "outputs": [
        {
          "output_type": "stream",
          "name": "stdout",
          "text": [
            "\u001b[1m313/313\u001b[0m \u001b[32m━━━━━━━━━━━━━━━━━━━━\u001b[0m\u001b[37m\u001b[0m \u001b[1m1s\u001b[0m 4ms/step\n",
            "Classification Report\n",
            "              precision    recall  f1-score   support\n",
            "\n",
            "           0       0.58      0.56      0.57      1000\n",
            "           1       0.56      0.68      0.61      1000\n",
            "           2       0.39      0.41      0.40      1000\n",
            "           3       0.35      0.34      0.34      1000\n",
            "           4       0.39      0.52      0.44      1000\n",
            "           5       0.49      0.33      0.40      1000\n",
            "           6       0.62      0.45      0.52      1000\n",
            "           7       0.59      0.54      0.56      1000\n",
            "           8       0.60      0.67      0.63      1000\n",
            "           9       0.54      0.51      0.52      1000\n",
            "\n",
            "    accuracy                           0.50     10000\n",
            "   macro avg       0.51      0.50      0.50     10000\n",
            "weighted avg       0.51      0.50      0.50     10000\n",
            "\n",
            "Confusion Matrix\n",
            "[[565  47  79  27  57   9  11  26 141  38]\n",
            " [ 35 682  32  22  15  10   5  20  61 118]\n",
            " [ 77  28 414  86 184  47  58  57  26  23]\n",
            " [ 34  43 118 341 112 133  72  51  41  55]\n",
            " [ 51  23 139  68 522  31  54  72  28  12]\n",
            " [ 20  20  99 218 114 332  49  85  26  37]\n",
            " [ 13  35  95 115 178  41 445  25  22  31]\n",
            " [ 45  27  64  73 114  44  13 540  24  56]\n",
            " [ 92  79  15  14  32  13   4  12 672  67]\n",
            " [ 47 241  13  22  25  17  12  34  78 511]]\n"
          ]
        }
      ],
      "source": [
        "# 6. Confusion Matrix and Classification Report\n",
        "y_pred = model.predict(x_test)\n",
        "y_pred_classes = np.argmax(y_pred, axis=1)\n",
        "y_true = np.argmax(y_test, axis=1)\n",
        "\n",
        "print('Classification Report')\n",
        "print(classification_report(y_true, y_pred_classes))\n",
        "\n",
        "print('Confusion Matrix')\n",
        "print(confusion_matrix(y_true, y_pred_classes))\n"
      ]
    },
    {
      "cell_type": "markdown",
      "source": [
        "**7. Optimization Strategies:**\n",
        "\n",
        "o Discuss optimization strategies such as:\n",
        "\n",
        "1. Early stopping to prevent overfitting.\n",
        "\n",
        "*What it is:* Early stopping halts the training process when the model’s performance on the validation set starts to degrade. This helps prevent overfitting, where the model performs well on the training data but poorly on unseen data.\n",
        "\n",
        "*How it helps:* By monitoring validation loss and stopping training once the loss plateaus or worsens, early stopping ensures the model doesn’t learn noise from the training set, thus improving generalization to new data.\n",
        "2.Learning rate scheduling for smoother convergence.\n",
        "\n",
        "*What it is:* A learning rate scheduler dynamically adjusts the learning rate during training. Common schedules include reducing the learning rate when the validation accuracy plateaus.\n",
        "\n",
        "*How it helps:* If the learning rate is too high, the model might miss optimal points in the loss landscape. If it’s too low, training becomes slow. Scheduling helps to fine-tune this process, starting with a high learning rate and gradually reducing it for smoother convergence.\n",
        "3. Weight initialization techniques to ensure efficient learning.\n",
        "\n",
        "*What it is:* Weight initialization is the method of setting initial weights in the neural network before training. Common techniques include Xavier/Glorot initialization and He initialization.\n",
        "\n",
        "*Why it matters:* Proper weight initialization helps the network start with reasonable gradients, preventing issues like vanishing or exploding gradients. This leads to faster convergence and prevents the network from being stuck in poor local minima.\n",
        "\n",
        "\n",
        "**Question:**\n",
        "\n",
        "o Why is weight initialization important, and how does it impact the\n",
        "convergence of your network?\n",
        "\n",
        "*Impact on convergence:* If weights are initialized too small, gradients may vanish, making it hard for the network to learn. If initialized too large, gradients may explode, causing unstable learning. Good initialization ensures smoother and faster convergence."
      ],
      "metadata": {
        "id": "Dje9RN6HlnQa"
      }
    },
    {
      "cell_type": "markdown",
      "source": [
        "**8. Report:**\n",
        "\n",
        "o Provide a detailed report/documentation that includes (in Colab file):\n",
        "1. The architecture of the network and justifications for the choices\n",
        "made.\n",
        "**Input Layer**: The network uses a 32x32x3 input shape, matching the dimensions of CIFAR-10 images.\n",
        "\n",
        "**Hidden Layers:** Two hidden layers with 256 and 128 neurons, using the ReLU activation function to combat the vanishing gradient problem.\n",
        "\n",
        "**Output Layer:** A softmax layer with 10 neurons for multi-class classification (one for each class).\n",
        "\n",
        "**Justification:**\n",
        "The network architecture is chosen for its simplicity, given the modest size of CIFAR-10. ReLU helps with gradient flow in deeper networks, and softmax is ideal for multi-class classification.\n"
      ],
      "metadata": {
        "id": "nBgaIVEQlsFd"
      }
    },
    {
      "cell_type": "markdown",
      "source": [
        "2. Training and test accuracy with relevant plots showing loss and\n",
        "accuracy over the epochs."
      ],
      "metadata": {
        "id": "eDO5bFMu1Csv"
      }
    },
    {
      "cell_type": "code",
      "source": [
        "# Plotting training and validation accuracy and loss\n",
        "plt.figure(figsize=(12, 4))\n",
        "plt.subplot(1, 2, 1)\n",
        "plt.plot(history.history['accuracy'], label='train accuracy')\n",
        "plt.plot(history.history['val_accuracy'], label='val accuracy')\n",
        "plt.title('Accuracy over epochs')\n",
        "plt.xlabel('Epochs')\n",
        "plt.ylabel('Accuracy')\n",
        "plt.legend()\n",
        "\n",
        "plt.subplot(1, 2, 2)\n",
        "plt.plot(history.history['loss'], label='train loss')\n",
        "plt.plot(history.history['val_loss'], label='val loss')\n",
        "plt.title('Loss over epochs')\n",
        "plt.xlabel('Epochs')\n",
        "plt.ylabel('Loss')\n",
        "plt.legend()\n",
        "\n",
        "plt.show()"
      ],
      "metadata": {
        "id": "wJGm-lwX1Daa",
        "colab": {
          "base_uri": "https://localhost:8080/",
          "height": 410
        },
        "outputId": "a12845a9-d9f5-49ef-a394-ca819abbcb84"
      },
      "execution_count": 21,
      "outputs": [
        {
          "output_type": "display_data",
          "data": {
            "text/plain": [
              "<Figure size 1200x400 with 2 Axes>"
            ],
            "image/png": "[encoded data removed]"
          },
          "metadata": {}
        }
      ]
    },
    {
      "cell_type": "markdown",
      "source": [
        "\n",
        "3. Hyperparameter values used (learning rate, batch size, number of\n",
        "epochs, etc.).\n",
        "**Learning Rate:** Default for Adam optimizer (0.001) or adjust based on your findings.\n",
        "\n",
        "**Batch Size:** 64 (you can experiment with 32 or 128 to see how it affects training time and model performance).\n",
        "\n",
        "**Number of Epochs:** 50 epochs (this can be reduced if early stopping is used).\n",
        "4. A brief discussion of the challenges you faced and how you\n",
        "addressed them.\n",
        "**Overfitting:** You might notice the model performs better on training data than on the validation set. Early stopping and data augmentation can help mitigate this.\n",
        "\n",
        "**Vanishing/Exploding Gradients:** Proper weight initialization (e.g., He initialization) and the use of activation functions like ReLU help address this.\n",
        "\n",
        "**Slow Convergence:** Adjust the learning rate or use learning rate scheduling to ensure faster and more stable training."
      ],
      "metadata": {
        "id": "hB4Hd7do1Bfq"
      }
    }
  ]
}